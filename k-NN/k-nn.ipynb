{
 "cells": [
  {
   "cell_type": "markdown",
   "metadata": {},
   "source": [
    "# k-NN Image Classifier\n",
    "This chapter aims to create a image classifier for a dataset consisting of images of dogs, cats and pandas.\n",
    "k-NN is the simplest machine learning algorithm. \n",
    "It works like this:\n",
    "In the training phase the images are put in a cartesian path, where the axes are the values of the feacture vectors, and so each datapoint is placed in some point in the plane."
   ]
  },
  {
   "cell_type": "code",
   "execution_count": 1,
   "metadata": {},
   "outputs": [
    {
     "name": "stdout",
     "output_type": "stream",
     "text": [
      "[INFO]: Images loading....\n",
      "[INFO]: Processed 500/3000\n",
      "[INFO]: Processed 1000/3000\n",
      "[INFO]: Processed 1500/3000\n",
      "[INFO]: Processed 2000/3000\n",
      "[INFO]: Processed 2500/3000\n",
      "[INFO]: Processed 3000/3000\n",
      "[INFO]: Features Matrix: 9.0MB\n"
     ]
    }
   ],
   "source": [
    "import argparse\n",
    "from imutils import paths\n",
    "from sklearn.neighbors import KNeighborsClassifier\n",
    "from sklearn.preprocessing import LabelEncoder\n",
    "from sklearn.model_selection import train_test_split\n",
    "from sklearn.metrics import classification_report\n",
    "\n",
    "from utilities.preprocessing import SimplePreprocessor\n",
    "from utilities.datasets import SimpleDatasetLoader\n",
    "\n",
    "import cv2\n",
    "\n",
    "dataset = '../datasets/animals'\n",
    "\n",
    "# Get list of image paths\n",
    "image_paths = list(paths.list_images(dataset))\n",
    "\n",
    "# Initialize SimplePreprocessor and SimpleDatasetLoader and load data and labels\n",
    "# It just resize the images to the needed size\n",
    "print('[INFO]: Images loading....')\n",
    "sp = SimplePreprocessor(32, 32)\n",
    "sdl = SimpleDatasetLoader(preprocessors=[sp])\n",
    "(data, labels) = sdl.load(image_paths, verbose=500)\n",
    "\n",
    "\n",
    "# Reshape from (3000, 32, 32, 3) to (3000, 32*32*3=3072)\n",
    "data = data.reshape((data.shape[0], 3072))\n",
    "\n",
    "# Print information about memory consumption\n",
    "print('[INFO]: Features Matrix: {:.1f}MB'.format(data.nbytes /(1024*1000.0)))\n",
    "\n",
    "# Encode labels as integers, from cat, dog and panda to 0, 1 and 2 \n",
    "le = LabelEncoder()\n",
    "labels = le.fit_transform(labels)"
   ]
  },
  {
   "cell_type": "code",
   "execution_count": 2,
   "metadata": {},
   "outputs": [
    {
     "name": "stdout",
     "output_type": "stream",
     "text": [
      "(2250, 3072)\n",
      "[[ 27  28  34 ...  93  95  88]\n",
      " [ 59  59 118 ...  79  62  69]\n",
      " [255 254 250 ...  55 114  80]\n",
      " ...\n",
      " [ 52  74  98 ...  94 126 154]\n",
      " [ 76  88  87 ... 138 117  95]\n",
      " [ 66  62 105 ...  64  85  73]]\n",
      "[2 0 1 ... 1 1 0]\n"
     ]
    }
   ],
   "source": [
    "# Split data into training (75%) and testing (25%) data\n",
    "# Our data consists of 3000 images, só 75% of it is 2250\n",
    "(train_x, test_x, train_y, test_y) = train_test_split(data, labels, test_size=0.25, random_state=42)\n",
    "print(train_x.shape)\n",
    "print(train_x)\n",
    "print(train_y)"
   ]
  },
  {
   "cell_type": "code",
   "execution_count": 17,
   "metadata": {},
   "outputs": [
    {
     "name": "stdout",
     "output_type": "stream",
     "text": [
      "[INFO]: Classification starting....\n",
      "[0 0 0 0 2 0 0 0 1 1 2 0 1 0 1 1 0 0 0 1 0 0 0 0 0 1 2 0 0 0 0 1 0 0 0 1 0\n",
      " 0 2 0 0 0 0 0 1 0 2 0 0 0 0 0 0 1 0 0 1 0 1 0 0 1 0 0 0 1 0 0 0 0 0 0 0 0\n",
      " 1 0 0 2 0 1 0 0 0 0 0 0 0 1 0 0 0 0 0 0 0 0 0 0 1 0 0 1 1 0 0 0 0 0 1 0 2\n",
      " 0 0 2 0 1 1 1 0 0 1 0 0 0 0 0 0 0 0 0 2 0 0 0 1 0 1 1 1 0 0 0 0 0 1 1 1 1\n",
      " 2 0 1 0 0 1 0 0 0 2 1 1 0 0 0 1 0 0 0 1 1 0 1 1 1 0 1 0 1 1 1 1 0 0 1 2 0\n",
      " 1 1 0 1 0 0 0 0 0 0 0 0 1 0 0 1 1 0 2 0 1 0 0 1 0 1 0 1 0 0 1 0 0 0 0 1 0\n",
      " 1 1 0 0 1 1 0 0 0 0 1 1 1 0 0 1 1 0 1 0 1 0 0 0 0 0 0 0 1 1 0 0 0 2 1 0 2\n",
      " 2 0 1 0 1 0 0 1 1 0 0 0 0 0 1 1 0 2 0 0 1 0 0 0 0 0 1 0 0 1 0 1 0 1 0 0 1\n",
      " 0 2 2 0 0 0 0 0 0 1 0 1 0 0 0 1 0 0 0 2 0 0 0 0 0 0 1 0 0 0 0 0 1 0 0 0 1\n",
      " 0 1 1 2 0 1 2 0 0 0 1 0 0 0 1 0 0 1 0 0 0 0 0 1 1 0 0 2 1 1 0 0 0 0 0 0 2\n",
      " 0 0 0 1 0 1 0 1 0 0 0 1 0 0 1 1 0 0 1 0 1 0 0 1 0 0 0 0 0 1 0 0 0 0 0 1 0\n",
      " 1 0 1 0 1 0 1 0 0 0 0 0 0 0 0 1 0 1 0 0 0 0 1 1 0 2 0 0 0 1 1 2 1 0 0 1 1\n",
      " 0 0 0 0 0 0 0 1 0 1 0 0 0 0 0 0 1 0 0 1 0 0 0 0 0 0 0 2 1 0 2 0 0 0 1 0 1\n",
      " 0 1 2 1 1 2 2 0 1 0 0 0 1 0 0 0 1 0 0 0 0 0 0 1 0 2 0 0 0 2 0 0 1 0 1 0 1\n",
      " 0 1 0 0 1 0 0 0 1 0 1 2 0 0 0 0 0 2 0 2 0 0 0 1 0 1 0 1 1 1 2 0 1 0 0 0 0\n",
      " 1 0 0 0 1 0 1 0 1 1 0 0 1 0 0 0 0 1 0 0 0 0 2 1 1 0 0 0 1 1 0 2 1 0 0 1 1\n",
      " 0 0 0 2 1 0 0 1 0 0 0 0 0 0 0 0 0 0 0 0 1 0 0 1 0 0 0 1 0 0 0 1 1 2 0 0 0\n",
      " 0 0 0 1 0 1 0 0 0 1 0 0 0 1 1 0 1 1 0 0 1 1 0 0 2 0 0 0 0 0 1 0 2 1 0 1 0\n",
      " 1 1 1 0 2 0 1 0 1 1 0 0 2 0 2 2 2 1 0 0 1 0 0 1 1 0 0 1 0 0 1 0 0 0 0 0 0\n",
      " 0 0 0 0 1 0 0 1 1 0 0 0 0 0 1 0 0 0 1 0 0 1 0 1 0 0 0 1 0 0 1 1 0 0 0 0 0\n",
      " 0 1 0 1 0 0 1 1 0 0]\n",
      "              precision    recall  f1-score   support\n",
      "\n",
      "        cats       0.42      0.77      0.54       262\n",
      "        dogs       0.36      0.31      0.33       249\n",
      "       panda       0.92      0.18      0.31       239\n",
      "\n",
      "    accuracy                           0.43       750\n",
      "   macro avg       0.56      0.42      0.39       750\n",
      "weighted avg       0.56      0.43      0.40       750\n",
      "\n"
     ]
    }
   ],
   "source": [
    "# Train and evaluate the k-NN classifier on the raw pixrandom_stateel intensities\n",
    "print('[INFO]: Classification starting....')\n",
    "model = KNeighborsClassifier(n_neighbors=2,\n",
    "                             n_jobs=-1)\n",
    "\n",
    "model.fit(train_x, train_y)\n",
    "predictedValues = model.predict(test_x)\n",
    "print(predictedValues)\n",
    "\n",
    "print(classification_report(test_y, model.predict(test_x),\n",
    "                            target_names=le.classes_))"
   ]
  },
  {
   "cell_type": "code",
   "execution_count": 24,
   "metadata": {},
   "outputs": [],
   "source": [
    "classificadas = test_x.reshape(750, 32, 32, 3)\n",
    "count = 0\n",
    "\n",
    "font                   = cv2.FONT_HERSHEY_SIMPLEX\n",
    "bottomLeftCornerOfText = (105,240)\n",
    "fontScale              = 1\n",
    "fontColor              = (255,255,255)\n",
    "lineType               = 2\n",
    "\n",
    "predictedNames = le.inverse_transform(valoresPreditos)\n",
    "for imagem in classificadas:\n",
    "    imagem = cv2.resize(imagem, (256, 256), cv2.INTER_LINEAR)\n",
    "    cv2.putText(imagem, str(predictedNames[count]), bottomLeftCornerOfText, font, fontScale, fontColor, lineType)\n",
    "    cv2.imshow('classificadas', imagem)\n",
    "    count+=1\n",
    "    key = cv2.waitKey()\n",
    "    if (key==ord('q')):\n",
    "        break\n",
    "    cv2.destroyAllWindows()\n",
    "cv2.destroyAllWindows()"
   ]
  },
  {
   "cell_type": "markdown",
   "metadata": {},
   "source": []
  }
 ],
 "metadata": {
  "kernelspec": {
   "display_name": "Python 3",
   "language": "python",
   "name": "python3"
  },
  "language_info": {
   "codemirror_mode": {
    "name": "ipython",
    "version": 3
   },
   "file_extension": ".py",
   "mimetype": "text/x-python",
   "name": "python",
   "nbconvert_exporter": "python",
   "pygments_lexer": "ipython3",
   "version": "3.7.3"
  }
 },
 "nbformat": 4,
 "nbformat_minor": 4
}
